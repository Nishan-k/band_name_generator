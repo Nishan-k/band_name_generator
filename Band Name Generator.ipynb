{
 "cells": [
  {
   "cell_type": "markdown",
   "id": "65268825",
   "metadata": {},
   "source": [
    "#### Welcome to the band name generator app:"
   ]
  },
  {
   "cell_type": "code",
   "execution_count": 1,
   "id": "82429f01",
   "metadata": {},
   "outputs": [],
   "source": [
    "import random"
   ]
  },
  {
   "cell_type": "code",
   "execution_count": 2,
   "id": "4f79e874",
   "metadata": {},
   "outputs": [
    {
     "name": "stdout",
     "output_type": "stream",
     "text": [
      "Please Enter Your First Name:\n",
      "nishan\n",
      "Please Enter The Name Of The City Your Were Born: \n",
      "ktm\n",
      "Your Band Name Is: nishan ktm\n"
     ]
    }
   ],
   "source": [
    "name = input(\"Please Enter Your First Name:\\n\")\n",
    "city_name = input(\"Please Enter The Name Of The City Your Were Born: \\n\")\n",
    "print(f\"Your Band Name Is: {name} {city_name}\")"
   ]
  },
  {
   "cell_type": "code",
   "execution_count": null,
   "id": "53add09b",
   "metadata": {},
   "outputs": [],
   "source": []
  },
  {
   "cell_type": "code",
   "execution_count": null,
   "id": "ce92e8df",
   "metadata": {},
   "outputs": [],
   "source": []
  },
  {
   "cell_type": "code",
   "execution_count": null,
   "id": "cca666db",
   "metadata": {},
   "outputs": [],
   "source": []
  }
 ],
 "metadata": {
  "kernelspec": {
   "display_name": "Python 3 (ipykernel)",
   "language": "python",
   "name": "python3"
  },
  "language_info": {
   "codemirror_mode": {
    "name": "ipython",
    "version": 3
   },
   "file_extension": ".py",
   "mimetype": "text/x-python",
   "name": "python",
   "nbconvert_exporter": "python",
   "pygments_lexer": "ipython3",
   "version": "3.9.7"
  }
 },
 "nbformat": 4,
 "nbformat_minor": 5
}
